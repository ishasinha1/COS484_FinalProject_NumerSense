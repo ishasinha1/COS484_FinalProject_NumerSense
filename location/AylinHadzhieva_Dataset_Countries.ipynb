{
  "cells": [
    {
      "cell_type": "code",
      "execution_count": 25,
      "metadata": {
        "colab": {
          "base_uri": "https://localhost:8080/"
        },
        "id": "wj6T0qc46WJ1",
        "outputId": "85dcd03a-679e-4d02-a2f4-4d502723fc71"
      },
      "outputs": [
        {
          "output_type": "stream",
          "name": "stdout",
          "text": [
            "Requirement already satisfied: datasets in /usr/local/lib/python3.10/dist-packages (2.19.0)\n",
            "Requirement already satisfied: filelock in /usr/local/lib/python3.10/dist-packages (from datasets) (3.13.4)\n",
            "Requirement already satisfied: numpy>=1.17 in /usr/local/lib/python3.10/dist-packages (from datasets) (1.25.2)\n",
            "Requirement already satisfied: pyarrow>=12.0.0 in /usr/local/lib/python3.10/dist-packages (from datasets) (14.0.2)\n",
            "Requirement already satisfied: pyarrow-hotfix in /usr/local/lib/python3.10/dist-packages (from datasets) (0.6)\n",
            "Requirement already satisfied: dill<0.3.9,>=0.3.0 in /usr/local/lib/python3.10/dist-packages (from datasets) (0.3.8)\n",
            "Requirement already satisfied: pandas in /usr/local/lib/python3.10/dist-packages (from datasets) (2.0.3)\n",
            "Requirement already satisfied: requests>=2.19.0 in /usr/local/lib/python3.10/dist-packages (from datasets) (2.31.0)\n",
            "Requirement already satisfied: tqdm>=4.62.1 in /usr/local/lib/python3.10/dist-packages (from datasets) (4.66.2)\n",
            "Requirement already satisfied: xxhash in /usr/local/lib/python3.10/dist-packages (from datasets) (3.4.1)\n",
            "Requirement already satisfied: multiprocess in /usr/local/lib/python3.10/dist-packages (from datasets) (0.70.16)\n",
            "Requirement already satisfied: fsspec[http]<=2024.3.1,>=2023.1.0 in /usr/local/lib/python3.10/dist-packages (from datasets) (2023.6.0)\n",
            "Requirement already satisfied: aiohttp in /usr/local/lib/python3.10/dist-packages (from datasets) (3.9.5)\n",
            "Requirement already satisfied: huggingface-hub>=0.21.2 in /usr/local/lib/python3.10/dist-packages (from datasets) (0.22.2)\n",
            "Requirement already satisfied: packaging in /usr/local/lib/python3.10/dist-packages (from datasets) (24.0)\n",
            "Requirement already satisfied: pyyaml>=5.1 in /usr/local/lib/python3.10/dist-packages (from datasets) (6.0.1)\n",
            "Requirement already satisfied: aiosignal>=1.1.2 in /usr/local/lib/python3.10/dist-packages (from aiohttp->datasets) (1.3.1)\n",
            "Requirement already satisfied: attrs>=17.3.0 in /usr/local/lib/python3.10/dist-packages (from aiohttp->datasets) (23.2.0)\n",
            "Requirement already satisfied: frozenlist>=1.1.1 in /usr/local/lib/python3.10/dist-packages (from aiohttp->datasets) (1.4.1)\n",
            "Requirement already satisfied: multidict<7.0,>=4.5 in /usr/local/lib/python3.10/dist-packages (from aiohttp->datasets) (6.0.5)\n",
            "Requirement already satisfied: yarl<2.0,>=1.0 in /usr/local/lib/python3.10/dist-packages (from aiohttp->datasets) (1.9.4)\n",
            "Requirement already satisfied: async-timeout<5.0,>=4.0 in /usr/local/lib/python3.10/dist-packages (from aiohttp->datasets) (4.0.3)\n",
            "Requirement already satisfied: typing-extensions>=3.7.4.3 in /usr/local/lib/python3.10/dist-packages (from huggingface-hub>=0.21.2->datasets) (4.11.0)\n",
            "Requirement already satisfied: charset-normalizer<4,>=2 in /usr/local/lib/python3.10/dist-packages (from requests>=2.19.0->datasets) (3.3.2)\n",
            "Requirement already satisfied: idna<4,>=2.5 in /usr/local/lib/python3.10/dist-packages (from requests>=2.19.0->datasets) (3.7)\n",
            "Requirement already satisfied: urllib3<3,>=1.21.1 in /usr/local/lib/python3.10/dist-packages (from requests>=2.19.0->datasets) (2.0.7)\n",
            "Requirement already satisfied: certifi>=2017.4.17 in /usr/local/lib/python3.10/dist-packages (from requests>=2.19.0->datasets) (2024.2.2)\n",
            "Requirement already satisfied: python-dateutil>=2.8.2 in /usr/local/lib/python3.10/dist-packages (from pandas->datasets) (2.8.2)\n",
            "Requirement already satisfied: pytz>=2020.1 in /usr/local/lib/python3.10/dist-packages (from pandas->datasets) (2023.4)\n",
            "Requirement already satisfied: tzdata>=2022.1 in /usr/local/lib/python3.10/dist-packages (from pandas->datasets) (2024.1)\n",
            "Requirement already satisfied: six>=1.5 in /usr/local/lib/python3.10/dist-packages (from python-dateutil>=2.8.2->pandas->datasets) (1.16.0)\n"
          ]
        }
      ],
      "source": [
        "!pip install datasets"
      ]
    },
    {
      "cell_type": "code",
      "execution_count": 26,
      "metadata": {
        "colab": {
          "base_uri": "https://localhost:8080/"
        },
        "id": "jtmGv9ab8nN_",
        "outputId": "7898d27f-9096-406b-b87b-1da81dca0f69"
      },
      "outputs": [
        {
          "output_type": "stream",
          "name": "stdout",
          "text": [
            "Requirement already satisfied: country_list in /usr/local/lib/python3.10/dist-packages (1.1.0)\n"
          ]
        }
      ],
      "source": [
        "!pip install country_list\n"
      ]
    },
    {
      "cell_type": "markdown",
      "metadata": {
        "id": "9DtlST0s8923"
      },
      "source": [
        "Follow this [link](https://pypi.org/project/country_list/) to learn more about the python list of countries"
      ]
    },
    {
      "cell_type": "code",
      "execution_count": 27,
      "metadata": {
        "id": "sdwrjWiVAQWI"
      },
      "outputs": [],
      "source": [
        "from datasets import load_dataset\n",
        "\n",
        "dataset2 = load_dataset(\"dutta18/omcs_dataset_of_commonsense_facts\")"
      ]
    },
    {
      "cell_type": "code",
      "source": [
        "# Extracting sentences from wikitext; we did not end up working with them as\n",
        "# they are not common sense ones\n",
        "\n",
        "# from datasets import load_dataset\n",
        "\n",
        "# dataset = load_dataset(\"wikitext\", \"wikitext-103-raw-v1\")"
      ],
      "metadata": {
        "id": "eni5VD28JKoz"
      },
      "execution_count": 28,
      "outputs": []
    },
    {
      "cell_type": "code",
      "source": [
        "print(dataset2)"
      ],
      "metadata": {
        "colab": {
          "base_uri": "https://localhost:8080/"
        },
        "id": "XcqW-6rkKkWs",
        "outputId": "6e5ecfa5-9a43-4d9d-8650-a953d0587d3f"
      },
      "execution_count": 29,
      "outputs": [
        {
          "output_type": "stream",
          "name": "stdout",
          "text": [
            "DatasetDict({\n",
            "    train: Dataset({\n",
            "        features: ['fact', 'count'],\n",
            "        num_rows: 1578238\n",
            "    })\n",
            "})\n"
          ]
        }
      ]
    },
    {
      "cell_type": "code",
      "source": [
        "print(dataset2['train'][1]['fact'])\n",
        "print(dataset2['train'][1]['count'])"
      ],
      "metadata": {
        "colab": {
          "base_uri": "https://localhost:8080/"
        },
        "id": "jRNixumar04y",
        "outputId": "295299d3-bda5-43b4-abd0-1427a0fe670b"
      },
      "execution_count": 30,
      "outputs": [
        {
          "output_type": "stream",
          "name": "stdout",
          "text": [
            "chose is a translation of thing.\n",
            "2\n"
          ]
        }
      ]
    },
    {
      "cell_type": "code",
      "execution_count": 31,
      "metadata": {
        "colab": {
          "base_uri": "https://localhost:8080/"
        },
        "id": "BAZtDH9n82bD",
        "outputId": "d4cb5a75-9536-44e2-d3e5-bd1677dcea2e"
      },
      "outputs": [
        {
          "output_type": "stream",
          "name": "stdout",
          "text": [
            "[('AF', 'Afghanistan'), ('AX', 'Åland Islands'), ('AL', 'Albania'), ('DZ', 'Algeria'), ('AS', 'American Samoa'), ('AD', 'Andorra'), ('AO', 'Angola'), ('AI', 'Anguilla'), ('AQ', 'Antarctica'), ('AG', 'Antigua & Barbuda'), ('AR', 'Argentina'), ('AM', 'Armenia'), ('AW', 'Aruba'), ('AU', 'Australia'), ('AT', 'Austria'), ('AZ', 'Azerbaijan'), ('BS', 'Bahamas'), ('BH', 'Bahrain'), ('BD', 'Bangladesh'), ('BB', 'Barbados'), ('BY', 'Belarus'), ('BE', 'Belgium'), ('BZ', 'Belize'), ('BJ', 'Benin'), ('BM', 'Bermuda'), ('BT', 'Bhutan'), ('BO', 'Bolivia'), ('BA', 'Bosnia & Herzegovina'), ('BW', 'Botswana'), ('BV', 'Bouvet Island'), ('BR', 'Brazil'), ('IO', 'British Indian Ocean Territory'), ('VG', 'British Virgin Islands'), ('BN', 'Brunei'), ('BG', 'Bulgaria'), ('BF', 'Burkina Faso'), ('BI', 'Burundi'), ('KH', 'Cambodia'), ('CM', 'Cameroon'), ('CA', 'Canada'), ('CV', 'Cape Verde'), ('BQ', 'Caribbean Netherlands'), ('KY', 'Cayman Islands'), ('CF', 'Central African Republic'), ('TD', 'Chad'), ('CL', 'Chile'), ('CN', 'China'), ('CX', 'Christmas Island'), ('CC', 'Cocos (Keeling) Islands'), ('CO', 'Colombia'), ('KM', 'Comoros'), ('CG', 'Congo - Brazzaville'), ('CD', 'Congo - Kinshasa'), ('CK', 'Cook Islands'), ('CR', 'Costa Rica'), ('CI', 'Côte d’Ivoire'), ('HR', 'Croatia'), ('CU', 'Cuba'), ('CW', 'Curaçao'), ('CY', 'Cyprus'), ('CZ', 'Czechia'), ('DK', 'Denmark'), ('DJ', 'Djibouti'), ('DM', 'Dominica'), ('DO', 'Dominican Republic'), ('EC', 'Ecuador'), ('EG', 'Egypt'), ('SV', 'El Salvador'), ('GQ', 'Equatorial Guinea'), ('ER', 'Eritrea'), ('EE', 'Estonia'), ('SZ', 'Eswatini'), ('ET', 'Ethiopia'), ('FK', 'Falkland Islands'), ('FO', 'Faroe Islands'), ('FJ', 'Fiji'), ('FI', 'Finland'), ('FR', 'France'), ('GF', 'French Guiana'), ('PF', 'French Polynesia'), ('TF', 'French Southern Territories'), ('GA', 'Gabon'), ('GM', 'Gambia'), ('GE', 'Georgia'), ('DE', 'Germany'), ('GH', 'Ghana'), ('GI', 'Gibraltar'), ('GR', 'Greece'), ('GL', 'Greenland'), ('GD', 'Grenada'), ('GP', 'Guadeloupe'), ('GU', 'Guam'), ('GT', 'Guatemala'), ('GG', 'Guernsey'), ('GN', 'Guinea'), ('GW', 'Guinea-Bissau'), ('GY', 'Guyana'), ('HT', 'Haiti'), ('HM', 'Heard & McDonald Islands'), ('HN', 'Honduras'), ('HK', 'Hong Kong SAR China'), ('HU', 'Hungary'), ('IS', 'Iceland'), ('IN', 'India'), ('ID', 'Indonesia'), ('IR', 'Iran'), ('IQ', 'Iraq'), ('IE', 'Ireland'), ('IM', 'Isle of Man'), ('IL', 'Israel'), ('IT', 'Italy'), ('JM', 'Jamaica'), ('JP', 'Japan'), ('JE', 'Jersey'), ('JO', 'Jordan'), ('KZ', 'Kazakhstan'), ('KE', 'Kenya'), ('KI', 'Kiribati'), ('KW', 'Kuwait'), ('KG', 'Kyrgyzstan'), ('LA', 'Laos'), ('LV', 'Latvia'), ('LB', 'Lebanon'), ('LS', 'Lesotho'), ('LR', 'Liberia'), ('LY', 'Libya'), ('LI', 'Liechtenstein'), ('LT', 'Lithuania'), ('LU', 'Luxembourg'), ('MO', 'Macao SAR China'), ('MG', 'Madagascar'), ('MW', 'Malawi'), ('MY', 'Malaysia'), ('MV', 'Maldives'), ('ML', 'Mali'), ('MT', 'Malta'), ('MH', 'Marshall Islands'), ('MQ', 'Martinique'), ('MR', 'Mauritania'), ('MU', 'Mauritius'), ('YT', 'Mayotte'), ('MX', 'Mexico'), ('FM', 'Micronesia'), ('MD', 'Moldova'), ('MC', 'Monaco'), ('MN', 'Mongolia'), ('ME', 'Montenegro'), ('MS', 'Montserrat'), ('MA', 'Morocco'), ('MZ', 'Mozambique'), ('MM', 'Myanmar (Burma)'), ('NA', 'Namibia'), ('NR', 'Nauru'), ('NP', 'Nepal'), ('NL', 'Netherlands'), ('NC', 'New Caledonia'), ('NZ', 'New Zealand'), ('NI', 'Nicaragua'), ('NE', 'Niger'), ('NG', 'Nigeria'), ('NU', 'Niue'), ('NF', 'Norfolk Island'), ('KP', 'North Korea'), ('MK', 'North Macedonia'), ('MP', 'Northern Mariana Islands'), ('NO', 'Norway'), ('OM', 'Oman'), ('PK', 'Pakistan'), ('PW', 'Palau'), ('PS', 'Palestinian Territories'), ('PA', 'Panama'), ('PG', 'Papua New Guinea'), ('PY', 'Paraguay'), ('PE', 'Peru'), ('PH', 'Philippines'), ('PN', 'Pitcairn Islands'), ('PL', 'Poland'), ('PT', 'Portugal'), ('PR', 'Puerto Rico'), ('QA', 'Qatar'), ('RE', 'Réunion'), ('RO', 'Romania'), ('RU', 'Russia'), ('RW', 'Rwanda'), ('WS', 'Samoa'), ('SM', 'San Marino'), ('ST', 'São Tomé & Príncipe'), ('SA', 'Saudi Arabia'), ('SN', 'Senegal'), ('RS', 'Serbia'), ('SC', 'Seychelles'), ('SL', 'Sierra Leone'), ('SG', 'Singapore'), ('SX', 'Sint Maarten'), ('SK', 'Slovakia'), ('SI', 'Slovenia'), ('SB', 'Solomon Islands'), ('SO', 'Somalia'), ('ZA', 'South Africa'), ('GS', 'South Georgia & South Sandwich Islands'), ('KR', 'South Korea'), ('SS', 'South Sudan'), ('ES', 'Spain'), ('LK', 'Sri Lanka'), ('BL', 'St. Barthélemy'), ('SH', 'St. Helena'), ('KN', 'St. Kitts & Nevis'), ('LC', 'St. Lucia'), ('MF', 'St. Martin'), ('PM', 'St. Pierre & Miquelon'), ('VC', 'St. Vincent & Grenadines'), ('SD', 'Sudan'), ('SR', 'Suriname'), ('SJ', 'Svalbard & Jan Mayen'), ('SE', 'Sweden'), ('CH', 'Switzerland'), ('SY', 'Syria'), ('TW', 'Taiwan'), ('TJ', 'Tajikistan'), ('TZ', 'Tanzania'), ('TH', 'Thailand'), ('TL', 'Timor-Leste'), ('TG', 'Togo'), ('TK', 'Tokelau'), ('TO', 'Tonga'), ('TT', 'Trinidad & Tobago'), ('TN', 'Tunisia'), ('TR', 'Turkey'), ('TM', 'Turkmenistan'), ('TC', 'Turks & Caicos Islands'), ('TV', 'Tuvalu'), ('UM', 'U.S. Outlying Islands'), ('VI', 'U.S. Virgin Islands'), ('UG', 'Uganda'), ('UA', 'Ukraine'), ('AE', 'United Arab Emirates'), ('GB', 'United Kingdom'), ('US', 'United States'), ('UY', 'Uruguay'), ('UZ', 'Uzbekistan'), ('VU', 'Vanuatu'), ('VA', 'Vatican City'), ('VE', 'Venezuela'), ('VN', 'Vietnam'), ('WF', 'Wallis & Futuna'), ('EH', 'Western Sahara'), ('YE', 'Yemen'), ('ZM', 'Zambia'), ('ZW', 'Zimbabwe')]\n",
            "Number of python countries 249\n",
            "['Afghanistan', 'Åland Islands', 'Albania', 'Algeria', 'American Samoa', 'Andorra', 'Angola', 'Anguilla', 'Antarctica', 'Antigua & Barbuda', 'Argentina', 'Armenia', 'Aruba', 'Australia', 'Austria', 'Azerbaijan', 'Bahamas', 'Bahrain', 'Bangladesh', 'Barbados', 'Belarus', 'Belgium', 'Belize', 'Benin', 'Bermuda', 'Bhutan', 'Bolivia', 'Bosnia & Herzegovina', 'Botswana', 'Bouvet Island', 'Brazil', 'British Indian Ocean Territory', 'British Virgin Islands', 'Brunei', 'Bulgaria', 'Burkina Faso', 'Burundi', 'Cambodia', 'Cameroon', 'Canada', 'Cape Verde', 'Caribbean Netherlands', 'Cayman Islands', 'Central African Republic', 'Chad', 'Chile', 'China', 'Christmas Island', 'Cocos (Keeling) Islands', 'Colombia', 'Comoros', 'Congo - Brazzaville', 'Congo - Kinshasa', 'Cook Islands', 'Costa Rica', 'Côte d’Ivoire', 'Croatia', 'Cuba', 'Curaçao', 'Cyprus', 'Czechia', 'Denmark', 'Djibouti', 'Dominica', 'Dominican Republic', 'Ecuador', 'Egypt', 'El Salvador', 'Equatorial Guinea', 'Eritrea', 'Estonia', 'Eswatini', 'Ethiopia', 'Falkland Islands', 'Faroe Islands', 'Fiji', 'Finland', 'France', 'French Guiana', 'French Polynesia', 'French Southern Territories', 'Gabon', 'Gambia', 'Georgia', 'Germany', 'Ghana', 'Gibraltar', 'Greece', 'Greenland', 'Grenada', 'Guadeloupe', 'Guam', 'Guatemala', 'Guernsey', 'Guinea', 'Guinea-Bissau', 'Guyana', 'Haiti', 'Heard & McDonald Islands', 'Honduras', 'Hong Kong SAR China', 'Hungary', 'Iceland', 'India', 'Indonesia', 'Iran', 'Iraq', 'Ireland', 'Isle of Man', 'Israel', 'Italy', 'Jamaica', 'Japan', 'Jersey', 'Jordan', 'Kazakhstan', 'Kenya', 'Kiribati', 'Kuwait', 'Kyrgyzstan', 'Laos', 'Latvia', 'Lebanon', 'Lesotho', 'Liberia', 'Libya', 'Liechtenstein', 'Lithuania', 'Luxembourg', 'Macao SAR China', 'Madagascar', 'Malawi', 'Malaysia', 'Maldives', 'Mali', 'Malta', 'Marshall Islands', 'Martinique', 'Mauritania', 'Mauritius', 'Mayotte', 'Mexico', 'Micronesia', 'Moldova', 'Monaco', 'Mongolia', 'Montenegro', 'Montserrat', 'Morocco', 'Mozambique', 'Myanmar (Burma)', 'Namibia', 'Nauru', 'Nepal', 'Netherlands', 'New Caledonia', 'New Zealand', 'Nicaragua', 'Niger', 'Nigeria', 'Niue', 'Norfolk Island', 'North Korea', 'North Macedonia', 'Northern Mariana Islands', 'Norway', 'Oman', 'Pakistan', 'Palau', 'Palestinian Territories', 'Panama', 'Papua New Guinea', 'Paraguay', 'Peru', 'Philippines', 'Pitcairn Islands', 'Poland', 'Portugal', 'Puerto Rico', 'Qatar', 'Réunion', 'Romania', 'Russia', 'Rwanda', 'Samoa', 'San Marino', 'São Tomé & Príncipe', 'Saudi Arabia', 'Senegal', 'Serbia', 'Seychelles', 'Sierra Leone', 'Singapore', 'Sint Maarten', 'Slovakia', 'Slovenia', 'Solomon Islands', 'Somalia', 'South Africa', 'South Georgia & South Sandwich Islands', 'South Korea', 'South Sudan', 'Spain', 'Sri Lanka', 'St. Barthélemy', 'St. Helena', 'St. Kitts & Nevis', 'St. Lucia', 'St. Martin', 'St. Pierre & Miquelon', 'St. Vincent & Grenadines', 'Sudan', 'Suriname', 'Svalbard & Jan Mayen', 'Sweden', 'Switzerland', 'Syria', 'Taiwan', 'Tajikistan', 'Tanzania', 'Thailand', 'Timor-Leste', 'Togo', 'Tokelau', 'Tonga', 'Trinidad & Tobago', 'Tunisia', 'Turkey', 'Turkmenistan', 'Turks & Caicos Islands', 'Tuvalu', 'U.S. Outlying Islands', 'U.S. Virgin Islands', 'Uganda', 'Ukraine', 'United Arab Emirates', 'United Kingdom', 'United States', 'Uruguay', 'Uzbekistan', 'Vanuatu', 'Vatican City', 'Venezuela', 'Vietnam', 'Wallis & Futuna', 'Western Sahara', 'Yemen', 'Zambia', 'Zimbabwe']\n"
          ]
        }
      ],
      "source": [
        "# Get all the countries we are going to look for\n",
        "from country_list import countries_for_language\n",
        "\n",
        "country_tuples = countries_for_language('en')\n",
        "print(country_tuples)\n",
        "country_names = []\n",
        "for abb, name in country_tuples:\n",
        "  country_names.append(name)\n",
        "print('Number of python countries', len(country_names))\n",
        "print(country_names)\n"
      ]
    },
    {
      "cell_type": "code",
      "execution_count": 35,
      "metadata": {
        "id": "PpPBjfHx-9k-"
      },
      "outputs": [],
      "source": [
        "# Not using regex, but does not work all the time\n",
        "#         for country in country_names:\n",
        "#             if country.lower() in stripped_sentence.lower():\n",
        "#                 # print(stripped_sentence)\n",
        "#                 # print(country)\n",
        "#                 filtered_sentences.append(stripped_sentence)\n",
        "\n",
        "import re\n",
        "\n",
        "# Filted through the common sense dataset to have only the sentences with\n",
        "# countries words\n",
        "def find_country_sentences(text, country_names):\n",
        "    # print('text', text)\n",
        "    sentences = text.split(\".\")\n",
        "    filtered_sentences = []\n",
        "    # print('sentence', sentences)\n",
        "\n",
        "    country_pattern = r'\\b(' + '|'.join(re.escape(country) for country in country_names) + r')\\b'\n",
        "\n",
        "    for sentence in sentences:\n",
        "        stripped_sentence = sentence.strip()\n",
        "        if re.search(country_pattern, stripped_sentence, re.IGNORECASE):\n",
        "            filtered_sentences.append(stripped_sentence)\n",
        "\n",
        "    return filtered_sentences"
      ]
    },
    {
      "cell_type": "code",
      "execution_count": 33,
      "metadata": {
        "id": "5REwcv3K9Kky"
      },
      "outputs": [],
      "source": [
        "# In the filtered sentence, count the occurence of each word\n",
        "def count_top(text, countries):\n",
        "  hash = {country: 0 for country in countries}\n",
        "\n",
        "  for sentence in text:\n",
        "    for country in countries:\n",
        "      if country.lower() in sentence.lower():\n",
        "        hash[country] +=1\n",
        "\n",
        "  return hash"
      ]
    },
    {
      "cell_type": "code",
      "execution_count": 36,
      "metadata": {
        "colab": {
          "base_uri": "https://localhost:8080/"
        },
        "id": "ix7kO12H_XAV",
        "outputId": "8959bfce-ce1d-4e24-8418-971523050bbc"
      },
      "outputs": [
        {
          "output_type": "stream",
          "name": "stdout",
          "text": [
            "['apple of Peru is a synonym of jimsonweed', 'Krasnojarsk is part of Russia', 'Republic of South Africa is a synonym of South Africa', 'Brisbane is part of Australia', 'Most people in Japan speak Japanese', 'saint pierre and miquelon is part of france', 'picture description: mt zermatt in switzerland', 'The capital of Tuvalu is Funafuti', 'gun room is used in the region of United Kingdom', 'The statement \"the statue of liberty comes from france\" is true because The French made the Statue of Liberty']\n"
          ]
        }
      ],
      "source": [
        "facts = []\n",
        "for entry in dataset2['train']:\n",
        "    text = entry['fact']\n",
        "    facts.extend(find_country_sentences(text, country_names))\n",
        "\n",
        "\n",
        "print(facts[:10])"
      ]
    },
    {
      "cell_type": "code",
      "execution_count": 37,
      "metadata": {
        "colab": {
          "base_uri": "https://localhost:8080/"
        },
        "id": "71gp74qE-2Qy",
        "outputId": "2da5a895-283e-4aea-da0b-def9fcf14986"
      },
      "outputs": [
        {
          "output_type": "stream",
          "name": "stdout",
          "text": [
            "{'Afghanistan': 108, 'Åland Islands': 0, 'Albania': 21, 'Algeria': 34, 'American Samoa': 13, 'Andorra': 15, 'Angola': 20, 'Anguilla': 14, 'Antarctica': 125, 'Antigua & Barbuda': 0, 'Argentina': 88, 'Armenia': 40, 'Aruba': 10, 'Australia': 928, 'Austria': 98, 'Azerbaijan': 17, 'Bahamas': 27, 'Bahrain': 24, 'Bangladesh': 22, 'Barbados': 37, 'Belarus': 27, 'Belgium': 64, 'Belize': 15, 'Benin': 29, 'Bermuda': 72, 'Bhutan': 15, 'Bolivia': 30, 'Bosnia & Herzegovina': 0, 'Botswana': 28, 'Bouvet Island': 7, 'Brazil': 180, 'British Indian Ocean Territory': 7, 'British Virgin Islands': 10, 'Brunei': 20, 'Bulgaria': 27, 'Burkina Faso': 12, 'Burundi': 19, 'Cambodia': 23, 'Cameroon': 22, 'Canada': 595, 'Cape Verde': 23, 'Caribbean Netherlands': 0, 'Cayman Islands': 17, 'Central African Republic': 28, 'Chad': 46, 'Chile': 64, 'China': 769, 'Christmas Island': 17, 'Cocos (Keeling) Islands': 8, 'Colombia': 50, 'Comoros': 12, 'Congo - Brazzaville': 0, 'Congo - Kinshasa': 0, 'Cook Islands': 8, 'Costa Rica': 24, 'Côte d’Ivoire': 0, 'Croatia': 24, 'Cuba': 96, 'Curaçao': 0, 'Cyprus': 31, 'Czechia': 0, 'Denmark': 67, 'Djibouti': 19, 'Dominica': 34, 'Dominican Republic': 19, 'Ecuador': 24, 'Egypt': 310, 'El Salvador': 18, 'Equatorial Guinea': 12, 'Eritrea': 12, 'Estonia': 24, 'Eswatini': 0, 'Ethiopia': 32, 'Falkland Islands': 14, 'Faroe Islands': 14, 'Fiji': 26, 'Finland': 77, 'France': 622, 'French Guiana': 10, 'French Polynesia': 17, 'French Southern Territories': 2, 'Gabon': 17, 'Gambia': 12, 'Georgia': 158, 'Germany': 414, 'Ghana': 22, 'Gibraltar': 19, 'Greece': 137, 'Greenland': 44, 'Grenada': 22, 'Guadeloupe': 10, 'Guam': 12, 'Guatemala': 26, 'Guernsey': 11, 'Guinea': 145, 'Guinea-Bissau': 18, 'Guyana': 17, 'Haiti': 25, 'Heard & McDonald Islands': 0, 'Honduras': 25, 'Hong Kong SAR China': 0, 'Hungary': 43, 'Iceland': 42, 'India': 408, 'Indonesia': 61, 'Iran': 105, 'Iraq': 189, 'Ireland': 178, 'Isle of Man': 2, 'Israel': 315, 'Italy': 377, 'Jamaica': 46, 'Japan': 520, 'Jersey': 373, 'Jordan': 185, 'Kazakhstan': 26, 'Kenya': 38, 'Kiribati': 14, 'Kuwait': 26, 'Kyrgyzstan': 20, 'Laos': 17, 'Latvia': 20, 'Lebanon': 31, 'Lesotho': 24, 'Liberia': 22, 'Libya': 32, 'Liechtenstein': 22, 'Lithuania': 19, 'Luxembourg': 31, 'Macao SAR China': 0, 'Madagascar': 64, 'Malawi': 23, 'Malaysia': 58, 'Maldives': 14, 'Mali': 45, 'Malta': 15, 'Marshall Islands': 15, 'Martinique': 9, 'Mauritania': 16, 'Mauritius': 28, 'Mayotte': 8, 'Mexico': 457, 'Micronesia': 21, 'Moldova': 14, 'Monaco': 21, 'Mongolia': 36, 'Montenegro': 19, 'Montserrat': 6, 'Morocco': 41, 'Mozambique': 22, 'Myanmar (Burma)': 0, 'Namibia': 18, 'Nauru': 22, 'Nepal': 76, 'Netherlands': 66, 'New Caledonia': 29, 'New Zealand': 112, 'Nicaragua': 24, 'Niger': 91, 'Nigeria': 38, 'Niue': 8, 'Norfolk Island': 14, 'North Korea': 21, 'North Macedonia': 0, 'Northern Mariana Islands': 7, 'Norway': 87, 'Oman': 71, 'Pakistan': 68, 'Palau': 14, 'Palestinian Territories': 0, 'Panama': 68, 'Papua New Guinea': 20, 'Paraguay': 21, 'Peru': 53, 'Philippines': 88, 'Pitcairn Islands': 6, 'Poland': 91, 'Portugal': 80, 'Puerto Rico': 48, 'Qatar': 21, 'Réunion': 2, 'Romania': 34, 'Russia': 259, 'Rwanda': 27, 'Samoa': 33, 'San Marino': 14, 'São Tomé & Príncipe': 0, 'Saudi Arabia': 93, 'Senegal': 27, 'Serbia': 22, 'Seychelles': 32, 'Sierra Leone': 184, 'Singapore': 43, 'Sint Maarten': 1, 'Slovakia': 16, 'Slovenia': 22, 'Solomon Islands': 13, 'Somalia': 18, 'South Africa': 67, 'South Georgia & South Sandwich Islands': 0, 'South Korea': 23, 'South Sudan': 0, 'Spain': 186, 'Sri Lanka': 32, 'St. Barthélemy': 0, 'St. Helena': 0, 'St. Kitts & Nevis': 0, 'St. Lucia': 0, 'St. Martin': 0, 'St. Pierre & Miquelon': 0, 'St. Vincent & Grenadines': 0, 'Sudan': 36, 'Suriname': 19, 'Svalbard & Jan Mayen': 0, 'Sweden': 72, 'Switzerland': 110, 'Syria': 32, 'Taiwan': 40, 'Tajikistan': 23, 'Tanzania': 28, 'Thailand': 39, 'Timor-Leste': 0, 'Togo': 20, 'Tokelau': 7, 'Tonga': 13, 'Trinidad & Tobago': 0, 'Tunisia': 19, 'Turkey': 294, 'Turkmenistan': 36, 'Turks & Caicos Islands': 0, 'Tuvalu': 16, 'U.S. Outlying Islands': 0, 'U.S. Virgin Islands': 0, 'Uganda': 27, 'Ukraine': 41, 'United Arab Emirates': 16, 'United Kingdom': 598, 'United States': 1836, 'Uruguay': 24, 'Uzbekistan': 29, 'Vanuatu': 13, 'Vatican City': 20, 'Venezuela': 38, 'Vietnam': 74, 'Wallis & Futuna': 0, 'Western Sahara': 13, 'Yemen': 30, 'Zambia': 16, 'Zimbabwe': 111}\n"
          ]
        }
      ],
      "source": [
        "counttemp = count_top(facts, country_names)\n",
        "print(counttemp)"
      ]
    },
    {
      "cell_type": "code",
      "source": [
        "import csv\n",
        "\n",
        "with open('count.csv', 'w') as output:\n",
        "    writer = csv.writer(output)\n",
        "    for key, value in counttemp.items():\n",
        "        writer.writerow([key, value])\n"
      ],
      "metadata": {
        "id": "5vGFasFrjZ-r"
      },
      "execution_count": 38,
      "outputs": []
    },
    {
      "cell_type": "code",
      "source": [
        "# Sort the country list by the max number of occurence in the filtered sentences\n",
        "sorted_list = sorted(counttemp, key=counttemp.get, reverse=True)"
      ],
      "metadata": {
        "id": "eHKQUre0mMQ0"
      },
      "execution_count": 39,
      "outputs": []
    },
    {
      "cell_type": "code",
      "source": [
        "# Work with only the top 50 most commonly mentioned countries\n",
        "# Replace the places in those 50 that are not countries with the next ones\n",
        "# in the ordered list that are countries\n",
        "print(sorted_list[:50])\n",
        "res = [sub.replace('Bermuda', 'Netherlands') for sub in sorted_list[:50]]\n",
        "res = [sub.replace('Jersey', 'Belgium') for sub in res]\n",
        "res = [sub.replace('Antarctica', 'Chile') for sub in res]"
      ],
      "metadata": {
        "colab": {
          "base_uri": "https://localhost:8080/"
        },
        "id": "fBe1_Gkim7P8",
        "outputId": "7fd75967-2c42-4dff-933f-5433c3347204"
      },
      "execution_count": 40,
      "outputs": [
        {
          "output_type": "stream",
          "name": "stdout",
          "text": [
            "['United States', 'Australia', 'China', 'France', 'United Kingdom', 'Canada', 'Japan', 'Mexico', 'Germany', 'India', 'Italy', 'Jersey', 'Israel', 'Egypt', 'Turkey', 'Russia', 'Iraq', 'Spain', 'Jordan', 'Sierra Leone', 'Brazil', 'Ireland', 'Georgia', 'Guinea', 'Greece', 'Antarctica', 'New Zealand', 'Zimbabwe', 'Switzerland', 'Afghanistan', 'Iran', 'Austria', 'Cuba', 'Saudi Arabia', 'Niger', 'Poland', 'Argentina', 'Philippines', 'Norway', 'Portugal', 'Finland', 'Nepal', 'Vietnam', 'Bermuda', 'Sweden', 'Oman', 'Pakistan', 'Panama', 'Denmark', 'South Africa']\n"
          ]
        }
      ]
    },
    {
      "cell_type": "code",
      "source": [
        "print(res)"
      ],
      "metadata": {
        "colab": {
          "base_uri": "https://localhost:8080/"
        },
        "id": "Wb7PO7GY0CkS",
        "outputId": "b10e21c5-8c1c-4317-c01b-070c97a45cb1"
      },
      "execution_count": 41,
      "outputs": [
        {
          "output_type": "stream",
          "name": "stdout",
          "text": [
            "['United States', 'Australia', 'China', 'France', 'United Kingdom', 'Canada', 'Japan', 'Mexico', 'Germany', 'India', 'Italy', 'Belgium', 'Israel', 'Egypt', 'Turkey', 'Russia', 'Iraq', 'Spain', 'Jordan', 'Sierra Leone', 'Brazil', 'Ireland', 'Georgia', 'Guinea', 'Greece', 'Chile', 'New Zealand', 'Zimbabwe', 'Switzerland', 'Afghanistan', 'Iran', 'Austria', 'Cuba', 'Saudi Arabia', 'Niger', 'Poland', 'Argentina', 'Philippines', 'Norway', 'Portugal', 'Finland', 'Nepal', 'Vietnam', 'Netherlands', 'Sweden', 'Oman', 'Pakistan', 'Panama', 'Denmark', 'South Africa']\n"
          ]
        }
      ]
    },
    {
      "cell_type": "markdown",
      "source": [
        "ONLY TOP 50\n",
        "-- now extract the sentences that contain the top 50 countries only"
      ],
      "metadata": {
        "id": "Ty-bTCZroRbz"
      }
    },
    {
      "cell_type": "code",
      "source": [
        "facts = []\n",
        "res = ['United States', 'Australia', 'China', 'France', 'United Kingdom', 'Canada', 'Japan', 'Mexico', 'Germany', 'India', 'Italy', 'Belgium', 'Israel', 'Egypt', 'Turkey', 'Russia', 'Iraq', 'Spain', 'Jordan', 'Sierra Leone', 'Brazil', 'Ireland', 'Georgia', 'Guinea', 'Greece', 'Chile', 'New Zealand', 'Zimbabwe', 'Switzerland', 'Afghanistan', 'Iran', 'Austria', 'Cuba', 'Saudi Arabia', 'Niger', 'Poland', 'Argentina', 'Philippines', 'Norway', 'Portugal', 'Finland', 'Nepal', 'Vietnam', 'Netherlands', 'Sweden', 'Oman', 'Pakistan', 'Panama', 'Denmark', 'South Africa']\n",
        "for entry in dataset2['train']:\n",
        "    text = entry['fact']\n",
        "    facts.extend(find_country_sentences(text, res))\n",
        "\n",
        "\n",
        "print(facts[:10])\n",
        "\n",
        "# The total number of filtered sentences that we manually looked through\n",
        "# We ended up using only 400 of them\n",
        "print(len(facts))"
      ],
      "metadata": {
        "colab": {
          "base_uri": "https://localhost:8080/"
        },
        "id": "-wviKeWuoHZR",
        "outputId": "a11d7037-42fe-449a-9adf-e6772beebc42"
      },
      "execution_count": 42,
      "outputs": [
        {
          "output_type": "stream",
          "name": "stdout",
          "text": [
            "['Krasnojarsk is part of Russia', 'Republic of South Africa is a synonym of South Africa', 'Brisbane is part of Australia', 'Most people in Japan speak Japanese', 'saint pierre and miquelon is part of france', 'picture description: mt zermatt in switzerland', 'gun room is used in the region of United Kingdom', 'The statement \"the statue of liberty comes from france\" is true because The French made the Statue of Liberty', 'The canada goose is a large north american bird that honks', 'Portuguese Republic is a synonym of Portugal']\n",
            "11930\n"
          ]
        }
      ]
    },
    {
      "cell_type": "markdown",
      "source": [
        "As we can see we have 11930 samples for the top 50 countries that we want to use for our testing, but after filtering through them, most of the senteces were removed, and we ended up with 350 samples from the omcs.\n",
        "\n",
        "**These are a few of the examples of the removed sentence:**\n",
        "\n",
        "japan is an island in the pacific\n",
        "\n",
        "josh flew to israel\n",
        "\n",
        "you are likely to find a temple in china\n",
        "\n",
        "rates is used in the region of united kingdom\n",
        "\n",
        "you are not likely to find a marmot in philippines\n",
        "\n",
        "you are likely to find a mouse in italy\n",
        "\n",
        "situation: i am in germany\n",
        "\n",
        "carriageway is used in the region of united kingdom\n",
        "\n",
        "to understand the event \"judy learned about japan\n",
        "\n",
        "the united states is only one country in the world"
      ],
      "metadata": {
        "id": "U3YWROvWyuQn"
      }
    },
    {
      "cell_type": "code",
      "source": [
        "# Get the count of every county in the selected top 50 countries sentences\n",
        "counttemp_50 = count_top(facts, res)\n",
        "print(counttemp_50)\n",
        "import csv\n",
        "\n",
        "with open('count_50.csv', 'w') as output:\n",
        "    writer = csv.writer(output)\n",
        "    for key, value in counttemp_50.items():\n",
        "        writer.writerow([key, value])\n"
      ],
      "metadata": {
        "id": "xJatYj0HoZXd",
        "colab": {
          "base_uri": "https://localhost:8080/"
        },
        "outputId": "b366a4cd-d148-4ecc-8f72-455c0108a342"
      },
      "execution_count": 43,
      "outputs": [
        {
          "output_type": "stream",
          "name": "stdout",
          "text": [
            "{'United States': 1836, 'Australia': 925, 'China': 765, 'France': 622, 'United Kingdom': 598, 'Canada': 595, 'Japan': 520, 'Mexico': 457, 'Germany': 414, 'India': 372, 'Italy': 377, 'Belgium': 64, 'Israel': 315, 'Egypt': 310, 'Turkey': 294, 'Russia': 255, 'Iraq': 189, 'Spain': 186, 'Jordan': 185, 'Sierra Leone': 184, 'Brazil': 180, 'Ireland': 178, 'Georgia': 158, 'Guinea': 145, 'Greece': 137, 'Chile': 64, 'New Zealand': 112, 'Zimbabwe': 111, 'Switzerland': 110, 'Afghanistan': 108, 'Iran': 101, 'Austria': 97, 'Cuba': 94, 'Saudi Arabia': 93, 'Niger': 57, 'Poland': 91, 'Argentina': 88, 'Philippines': 88, 'Norway': 87, 'Portugal': 80, 'Finland': 77, 'Nepal': 76, 'Vietnam': 74, 'Netherlands': 66, 'Sweden': 72, 'Oman': 36, 'Pakistan': 68, 'Panama': 68, 'Denmark': 67, 'South Africa': 67}\n"
          ]
        }
      ]
    },
    {
      "cell_type": "code",
      "execution_count": 44,
      "metadata": {
        "id": "ZMYxlSUdEMlM"
      },
      "outputs": [],
      "source": [
        "# Export the collected dataset\n",
        "import string\n",
        "\n",
        "with open('country_facts.txt', 'w') as f:\n",
        "    for fact in facts:\n",
        "        fact = fact.replace(string.punctuation, \"\")\n",
        "        fact = fact.lower()\n",
        "        f.write(f\"%s\\n\" % fact)\n"
      ]
    }
  ],
  "metadata": {
    "accelerator": "GPU",
    "colab": {
      "gpuType": "T4",
      "provenance": []
    },
    "kernelspec": {
      "display_name": "Python 3",
      "name": "python3"
    },
    "language_info": {
      "name": "python"
    }
  },
  "nbformat": 4,
  "nbformat_minor": 0
}