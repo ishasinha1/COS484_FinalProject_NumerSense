{
  "nbformat": 4,
  "nbformat_minor": 0,
  "metadata": {
    "colab": {
      "provenance": []
    },
    "kernelspec": {
      "name": "python3",
      "display_name": "Python 3"
    },
    "language_info": {
      "name": "python"
    }
  },
  "cells": [
    {
      "cell_type": "code",
      "execution_count": null,
      "metadata": {
        "id": "7YTr4UPDx1bT"
      },
      "outputs": [],
      "source": [
        "# filename = \"colors_3000.txt\"\n",
        "filename = \"FINAL_no_punc.txt\""
      ]
    },
    {
      "cell_type": "code",
      "source": [
        "with open(filename) as f:\n",
        "  corpus = f.read().splitlines()"
      ],
      "metadata": {
        "id": "O61bq8gXx6fB"
      },
      "execution_count": null,
      "outputs": []
    },
    {
      "cell_type": "code",
      "source": [
        "def masking_fn(corpus, to_be_masked):\n",
        "  mask_and_truth = {}\n",
        "  for ex in corpus:\n",
        "    for s in to_be_masked:\n",
        "      if len(s) > 1:\n",
        "        if s in ex:\n",
        "          masked_sent = ex.replace(s, '<mask>')\n",
        "          mask_and_truth[masked_sent] = s\n",
        "      else:\n",
        "        if s in ex.split(' '):\n",
        "          masked_sent = ex.replace(s, '<mask>')\n",
        "          mask_and_truth[masked_sent] = s\n",
        "\n",
        "  return mask_and_truth"
      ],
      "metadata": {
        "id": "tF-1DIveyNG6"
      },
      "execution_count": null,
      "outputs": []
    },
    {
      "cell_type": "code",
      "source": [
        "colors = ['red', 'blue', 'yellow', 'pink', 'white', 'black', 'green', 'orange', 'purple', 'brown']\n",
        "\n",
        "mask_and_color = masking_fn(corpus, colors)\n",
        "\n",
        "with open('color.masked.withlabels.txt', 'a') as f:\n",
        "  for sent in mask_and_color.keys():\n",
        "    f.write(sent+'\\t'+mask_and_color[sent]+'\\n')\n",
        "\n",
        "with open('color.masked.txt', 'a') as f:\n",
        "  for sent in mask_and_color.keys():\n",
        "    f.write(sent+'\\n')"
      ],
      "metadata": {
        "id": "78UgvMnwyGyQ"
      },
      "execution_count": null,
      "outputs": []
    },
    {
      "cell_type": "code",
      "source": [
        "places = [\"United States\", \"France\", \"Australia\", \"United Kingdom\", \"China\", \"Canada\",\n",
        "             \"Argentina\", \"Brazil\", \"Portugal\", \"Germany\", \"Italy\", \"Nepal\", \"Pakistan\", \"India\",\n",
        "             \"Ireland\", \"Poland\", \"Finland\", \"Netherlands\", \"Saudi Arabia\", \"South Africa\", \"Mexico\",\n",
        "             \"Niger\", \"Spain\", \"Panama\", \"Iran\", \"Japan\", \"Sierra Leone\",  \"Switzerland\", \"Jordan\", \"Iraq\",\n",
        "             \"Belgium\", \"Georgia\", \"Chile\", \"Greece\", \"Russia\", \"Egypt\", \"Guinea\", \"Turkey\",\n",
        "             \"Afghanistan\", \"Israel\", \"Oman\", \"Austria\", \"Norway\", \"Cuba\", \"New Zealand\", \"Philippines\",\n",
        "             \"Denmark\", \"Syria\",  \"Vietnam\",  \"Mali\",  \"Sweden\",\n",
        "             \"Vatican City\",   \"Zimbabwe\", \"Albania\", \"Andorra\", \"Armenia\", \"Azerbaijan\", \"Bangladesh\",\n",
        "             \"Bolivia\", \"Bulgaria\", \"Colombia\", \"Hungary\", \"Liberia\",\n",
        "             \"North Macedonia\", \"Papua New Guinea\", \"Peru\", \"Senegal\", \"Slovenia\" ]\n",
        "places = [place.lower() for place in places]\n",
        "\n",
        "mask_and_place = masking_fn(corpus, places)\n",
        "with open('places.masked.withlabels.txt', 'a') as f:\n",
        "  for sent in mask_and_place.keys():\n",
        "    f.write(sent+'\\t'+mask_and_place[sent]+'\\n')\n",
        "\n",
        "with open('places.masked.txt', 'a') as f:\n",
        "  for sent in mask_and_place.keys():\n",
        "    f.write(sent+'\\n')"
      ],
      "metadata": {
        "id": "veBvX0nUHtkj"
      },
      "execution_count": null,
      "outputs": []
    }
  ]
}